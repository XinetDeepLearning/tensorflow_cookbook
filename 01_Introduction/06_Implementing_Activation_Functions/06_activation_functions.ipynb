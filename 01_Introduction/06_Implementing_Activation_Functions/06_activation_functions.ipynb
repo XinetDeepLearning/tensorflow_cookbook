{
 "cells": [
  {
   "cell_type": "markdown",
   "metadata": {},
   "source": [
    "# Activation Functions\n",
    "\n",
    "This function introduces activation functions in TensorFlow\n",
    "\n",
    "We start by loading the necessary libraries for this script."
   ]
  },
  {
   "cell_type": "code",
   "execution_count": 1,
   "metadata": {
    "collapsed": true
   },
   "outputs": [],
   "source": [
    "import matplotlib.pyplot as plt\n",
    "import numpy as np\n",
    "import tensorflow as tf\n",
    "from tensorflow.python.framework import ops\n",
    "ops.reset_default_graph()"
   ]
  },
  {
   "cell_type": "markdown",
   "metadata": {},
   "source": [
    "### Start a graph session"
   ]
  },
  {
   "cell_type": "code",
   "execution_count": 2,
   "metadata": {
    "collapsed": true
   },
   "outputs": [],
   "source": [
    "sess = tf.Session()"
   ]
  },
  {
   "cell_type": "markdown",
   "metadata": {},
   "source": [
    "### Initialize the X range values for plotting"
   ]
  },
  {
   "cell_type": "code",
   "execution_count": 3,
   "metadata": {
    "collapsed": true
   },
   "outputs": [],
   "source": [
    "x_vals = np.linspace(start=-10., stop=10., num=100)"
   ]
  },
  {
   "cell_type": "markdown",
   "metadata": {},
   "source": [
    "### Activation Functions:\n",
    "\n",
    "ReLU activation"
   ]
  },
  {
   "cell_type": "code",
   "execution_count": 4,
   "metadata": {},
   "outputs": [
    {
     "name": "stdout",
     "output_type": "stream",
     "text": [
      "[  0.   3.  10.]\n"
     ]
    }
   ],
   "source": [
    "print(sess.run(tf.nn.relu([-3., 3., 10.])))\n",
    "y_relu = sess.run(tf.nn.relu(x_vals))"
   ]
  },
  {
   "cell_type": "markdown",
   "metadata": {},
   "source": [
    "ReLU-6 activation"
   ]
  },
  {
   "cell_type": "code",
   "execution_count": 5,
   "metadata": {},
   "outputs": [
    {
     "name": "stdout",
     "output_type": "stream",
     "text": [
      "[ 0.  3.  6.]\n"
     ]
    }
   ],
   "source": [
    "print(sess.run(tf.nn.relu6([-3., 3., 10.])))\n",
    "y_relu6 = sess.run(tf.nn.relu6(x_vals))"
   ]
  },
  {
   "cell_type": "markdown",
   "metadata": {},
   "source": [
    "Sigmoid activation"
   ]
  },
  {
   "cell_type": "code",
   "execution_count": 6,
   "metadata": {},
   "outputs": [
    {
     "name": "stdout",
     "output_type": "stream",
     "text": [
      "[ 0.26894143  0.5         0.7310586 ]\n"
     ]
    }
   ],
   "source": [
    "print(sess.run(tf.nn.sigmoid([-1., 0., 1.])))\n",
    "y_sigmoid = sess.run(tf.nn.sigmoid(x_vals))"
   ]
  },
  {
   "cell_type": "markdown",
   "metadata": {},
   "source": [
    "Hyper Tangent activation"
   ]
  },
  {
   "cell_type": "code",
   "execution_count": 7,
   "metadata": {},
   "outputs": [
    {
     "name": "stdout",
     "output_type": "stream",
     "text": [
      "[-0.76159418  0.          0.76159418]\n"
     ]
    }
   ],
   "source": [
    "print(sess.run(tf.nn.tanh([-1., 0., 1.])))\n",
    "y_tanh = sess.run(tf.nn.tanh(x_vals))"
   ]
  },
  {
   "cell_type": "markdown",
   "metadata": {},
   "source": [
    "Softsign activation"
   ]
  },
  {
   "cell_type": "code",
   "execution_count": 8,
   "metadata": {},
   "outputs": [
    {
     "name": "stdout",
     "output_type": "stream",
     "text": [
      "[-0.5  0.   0.5]\n"
     ]
    }
   ],
   "source": [
    "print(sess.run(tf.nn.softsign([-1., 0., 1.])))\n",
    "y_softsign = sess.run(tf.nn.softsign(x_vals))"
   ]
  },
  {
   "cell_type": "markdown",
   "metadata": {},
   "source": [
    "Softplus activation"
   ]
  },
  {
   "cell_type": "code",
   "execution_count": 9,
   "metadata": {},
   "outputs": [
    {
     "name": "stdout",
     "output_type": "stream",
     "text": [
      "[ 0.31326166  0.69314718  1.31326163]\n"
     ]
    }
   ],
   "source": [
    "print(sess.run(tf.nn.softplus([-1., 0., 1.])))\n",
    "y_softplus = sess.run(tf.nn.softplus(x_vals))"
   ]
  },
  {
   "cell_type": "markdown",
   "metadata": {},
   "source": [
    "Exponential linear activation"
   ]
  },
  {
   "cell_type": "code",
   "execution_count": 10,
   "metadata": {},
   "outputs": [
    {
     "name": "stdout",
     "output_type": "stream",
     "text": [
      "[-0.63212055  0.          1.        ]\n"
     ]
    }
   ],
   "source": [
    "print(sess.run(tf.nn.elu([-1., 0., 1.])))\n",
    "y_elu = sess.run(tf.nn.elu(x_vals))"
   ]
  },
  {
   "cell_type": "markdown",
   "metadata": {},
   "source": [
    "### Plot the different functions"
   ]
  },
  {
   "cell_type": "code",
   "execution_count": 11,
   "metadata": {
    "scrolled": false
   },
   "outputs": [
    {
     "data": {
      "image/png": "[encoded data removed]",
      "text/plain": [
       "<matplotlib.figure.Figure at 0x22950f30eb8>"
      ]
     },
     "metadata": {},
     "output_type": "display_data"
    },
    {
     "data": {
      "image/png": "[encoded data removed]",
      "text/plain": [
       "<matplotlib.figure.Figure at 0x229e012b748>"
      ]
     },
     "metadata": {},
     "output_type": "display_data"
    }
   ],
   "source": [
    "plt.plot(x_vals, y_softplus, 'r--', label='Softplus', linewidth=2)\n",
    "plt.plot(x_vals, y_relu, 'b:', label='ReLU', linewidth=2)\n",
    "plt.plot(x_vals, y_relu6, 'g-.', label='ReLU6', linewidth=2)\n",
    "plt.plot(x_vals, y_elu, 'k-', label='ExpLU', linewidth=0.5)\n",
    "plt.ylim([-1.5,7])\n",
    "plt.legend(loc='upper left')\n",
    "plt.show()\n",
    "\n",
    "plt.plot(x_vals, y_sigmoid, 'r--', label='Sigmoid', linewidth=2)\n",
    "plt.plot(x_vals, y_tanh, 'b:', label='Tanh', linewidth=2)\n",
    "plt.plot(x_vals, y_softsign, 'g-.', label='Softsign', linewidth=2)\n",
    "plt.ylim([-2,2])\n",
    "plt.legend(loc='upper left')\n",
    "plt.show()"
   ]
  },
  {
   "cell_type": "markdown",
   "metadata": {},
   "source": [
    "![Acivation_Functions1](https://github.com/XinetDeepLearning/tensorflow_cookbook/tree/master/01_Introduction/images/06_activation_funs1.png)\n",
    "\n",
    "![Acivation_Functions2](https://github.com/XinetDeepLearning/tensorflow_cookbook/tree/master/01_Introduction/images/06_activation_funs2.png)"
   ]
  },
  {
   "cell_type": "code",
   "execution_count": null,
   "metadata": {
    "collapsed": true
   },
   "outputs": [],
   "source": []
  }
 ],
 "metadata": {
  "kernelspec": {
   "display_name": "Python 3",
   "language": "python",
   "name": "python3"
  },
  "language_info": {
   "codemirror_mode": {
    "name": "ipython",
    "version": 3
   },
   "file_extension": ".py",
   "mimetype": "text/x-python",
   "name": "python",
   "nbconvert_exporter": "python",
   "pygments_lexer": "ipython3",
   "version": "3.6.3"
  }
 },
 "nbformat": 4,
 "nbformat_minor": 2
}
