{
 "cells": [
  {
   "cell_type": "code",
   "execution_count": 1,
   "metadata": {},
   "outputs": [],
   "source": [
    "import tensorflow as tf"
   ]
  },
  {
   "cell_type": "code",
   "execution_count": 2,
   "metadata": {
    "scrolled": true
   },
   "outputs": [],
   "source": [
    "from tensorflow.python.framework import ops\n",
    "ops.reset_default_graph()\n",
    "with tf.name_scope('Scope_A'):\n",
    "    a = tf.add(1, 2, name= 'A_add')\n",
    "    b = tf.multiply(a, 3, name= 'A_mul')\n",
    "    with tf.name_scope('Scope_B'):\n",
    "        c = tf.add(4, 5, name= 'B_add')\n",
    "        d = tf.multiply(c, 6, name= 'B_mul')\n",
    "    \n",
    "e = tf.add(b, d, name= 'output')\n",
    "writer = tf.summary.FileWriter('E:/Graphs/g1', graph= tf.get_default_graph())"
   ]
  },
  {
   "cell_type": "code",
   "execution_count": 5,
   "metadata": {},
   "outputs": [],
   "source": [
    "g = tf.Graph()\n",
    "\n",
    "with g.as_default():\n",
    "    in_1 = tf.placeholder(tf.float32, name='input-a')\n",
    "    in_2 = tf.placeholder(tf.float32, name='input-b')\n",
    "    const = tf.constant(3, dtype=tf.float32, name='static-value')\n",
    "    \n",
    "    with tf.name_scope('A'):\n",
    "        A_mul = tf.multiply(in_1, const)\n",
    "        A_out = tf.subtract(A_mul, in_1)\n",
    "        \n",
    "    with tf.name_scope('B'):\n",
    "        B_mul = tf.multiply(in_2, const)\n",
    "        B_out = tf.subtract(B_mul, in_2)\n",
    "    \n",
    "    with tf.name_scope('C'):\n",
    "        C_div = tf.div(A_out, B_out)\n",
    "        C_out = tf.subtract(C_div, const)\n",
    "    \n",
    "    with tf.name_scope('D'):\n",
    "        D_div = tf.div(B_out, A_out)\n",
    "        D_out = tf.subtract(C_out, const)\n",
    "        out = tf.maximum(C_out, D_out)\n",
    "        \n",
    "    writer = tf.summary.FileWriter('E:/Graphs/name-scope', graph= g)\n",
    "    writer.close()"
   ]
  },
  {
   "cell_type": "code",
   "execution_count": null,
   "metadata": {},
   "outputs": [],
   "source": []
  }
 ],
 "metadata": {
  "kernelspec": {
   "display_name": "Python 3",
   "language": "python",
   "name": "python3"
  },
  "language_info": {
   "codemirror_mode": {
    "name": "ipython",
    "version": 3
   },
   "file_extension": ".py",
   "mimetype": "text/x-python",
   "name": "python",
   "nbconvert_exporter": "python",
   "pygments_lexer": "ipython3",
   "version": "3.6.3"
  }
 },
 "nbformat": 4,
 "nbformat_minor": 2
}
