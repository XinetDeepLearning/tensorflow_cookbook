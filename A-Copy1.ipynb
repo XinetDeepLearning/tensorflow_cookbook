{
 "cells": [
  {
   "cell_type": "code",
   "execution_count": 15,
   "metadata": {},
   "outputs": [],
   "source": [
    "import tensorflow as tf\n",
    "W = tf.Variable(tf.zeros([2, 1]), name= 'weights')\n",
    "b = tf.Variable(0., name= 'bias')\n",
    "\n",
    "def inference(X):\n",
    "    return tf.sigmoid(tf.matmul(X, W) + b)\n",
    "\n",
    "def loss(X, Y):\n",
    "    Y_predicted = inference(X)\n",
    "    return tf.reduce_mean(tf.nn.sigmoid_cross_entropy_with_logits(logits= Y_predicted, labels= Y))  # 平方差之和\n",
    "\n",
    "def inputs():\n",
    "    # Data from http://people.sc.fsu.edu/~jburkardt/datasets/regression/x09.txt\n",
    "    weight_age = [[84, 46], [73, 20], [65, 52], [70, 30], [76, 57], [69, 25], \n",
    "                  [63, 28], [72, 36], [79, 57], [75, 44], [27, 24], [89, 31], \n",
    "                  [65, 52], [57, 23], [59, 60], [69, 48], [60, 34], [79, 51], \n",
    "                  [75, 50], [82, 34], [59, 46], [67, 23], [85, 37], [55, 40], [63, 30]]\n",
    "    blood_fat_content = [354, 190, 405, 263, 451, 302, 288, 385, 402, \n",
    "                         365, 209, 290, 346, 254, 395, 434, 220, 374, \n",
    "                         308, 220, 311, 181, 274, 303, 244]\n",
    "\n",
    "    return tf.to_float(weight_age), tf.reshape(tf.to_float(blood_fat_content), (-1, 1))\n",
    "\n",
    "def train(total_loss):\n",
    "    '''梯度下降方法'''\n",
    "    learning_rate = 0.0001\n",
    "    return tf.train.GradientDescentOptimizer(learning_rate).minimize(total_loss)\n",
    "[]\n",
    "def evaluate(sess, X, Y):\n",
    "    print(\"inference([[80., 25.]]):\", sess.run(inference([[80., 25.]])))\n",
    "    print(\"inference([[65., 25.]]):\", sess.run(inference([[65., 25.]])))"
   ]
  },
  {
   "cell_type": "code",
   "execution_count": 16,
   "metadata": {},
   "outputs": [
    {
     "name": "stdout",
     "output_type": "stream",
     "text": [
      "loss:  [-309.40674]\n",
      "loss:  [-309.40674]\n",
      "loss:  [-309.40674]\n",
      "loss:  [-309.40674]\n",
      "loss:  [-309.40674]\n",
      "loss:  [-309.40674]\n",
      "loss:  [-309.40674]\n",
      "loss:  [-309.40674]\n",
      "loss:  [-309.40674]\n",
      "loss:  [-309.40674]\n",
      "inference([[80., 25.]]): [[ 1.]]\n",
      "inference([[65., 25.]]): [[ 1.]]\n"
     ]
    }
   ],
   "source": [
    "with tf.Session() as sess:\n",
    "    tf.global_variables_initializer().run()\n",
    "    X, Y = inputs()\n",
    "    total_loss = loss(X, Y)\n",
    "    train_op = train(total_loss)\n",
    "    training_steps = 1000\n",
    "    for step in range(training_steps):\n",
    "        sess.run([train_op])\n",
    "        if step % 100 == 0:\n",
    "            print(\"loss: \", sess.run([total_loss]))\n",
    "            writer = tf.summary.FileWriter('E:/Graphs/we', sess.graph)\n",
    "    evaluate(sess, X, Y)"
   ]
  },
  {
   "cell_type": "code",
   "execution_count": null,
   "metadata": {},
   "outputs": [],
   "source": []
  }
 ],
 "metadata": {
  "kernelspec": {
   "display_name": "Python 3",
   "language": "python",
   "name": "python3"
  },
  "language_info": {
   "codemirror_mode": {
    "name": "ipython",
    "version": 3
   },
   "file_extension": ".py",
   "mimetype": "text/x-python",
   "name": "python",
   "nbconvert_exporter": "python",
   "pygments_lexer": "ipython3",
   "version": "3.6.3"
  }
 },
 "nbformat": 4,
 "nbformat_minor": 2
}
