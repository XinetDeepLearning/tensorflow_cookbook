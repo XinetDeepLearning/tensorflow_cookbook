{
 "cells": [
  {
   "cell_type": "code",
   "execution_count": null,
   "metadata": {},
   "outputs": [],
   "source": [
    "import tensorflow as tf"
   ]
  },
  {
   "cell_type": "code",
   "execution_count": 2,
   "metadata": {},
   "outputs": [],
   "source": [
    "g = tf.Graph()  # 创建一个Graph对象"
   ]
  },
  {
   "cell_type": "markdown",
   "metadata": {},
   "source": [
    "在模型中有两个“全局”风格的Variable对象：`global_step` 和 `total_output` 。它们本质上是全局的，因此在声明它们时需要与数据流图的其他节点区分开，并把它们放入自己的名称作用域。`trainable= False`的设置使得该Variable对象对象不会对模型造成影响（因为没有任何训练的步骤），但该设置明确指定了这些Variable对象只能通过手工设置。"
   ]
  },
  {
   "cell_type": "markdown",
   "metadata": {},
   "source": [
    "# 构建数据流图"
   ]
  },
  {
   "cell_type": "code",
   "execution_count": 3,
   "metadata": {},
   "outputs": [
    {
     "name": "stdout",
     "output_type": "stream",
     "text": [
      "INFO:tensorflow:Summary name Sum of outputs over time is illegal; using Sum_of_outputs_over_time instead.\n",
      "INFO:tensorflow:Summary name Average of outputs over time is illegal; using Average_of_outputs_over_time instead.\n"
     ]
    }
   ],
   "source": [
    "with g.as_default():   # 将Graph对象设为默认对象\n",
    "    with tf.name_scope('variables'):\n",
    "        # 记录数据流图运行次数的 Variable 对象\n",
    "        # 这是一种常见的范式，在整个API中，这种范式会频繁出现\n",
    "        global_step = tf.Variable(0, dtype= tf.float32, trainable= False, name= 'global_step')\n",
    "        \n",
    "        # 追踪该模型的所有输出随时间的累加和的 Variable 对象\n",
    "        total_output = tf.Variable(0.0, dtype= tf.float32, trainable= False, name= 'total_output')\n",
    "        \n",
    "    with tf.name_scope('transformation'):  # 该模型的核心变换部分\n",
    "        \n",
    "        # 独立的输入层\n",
    "        with tf.name_scope('input'):\n",
    "            # 创建输出占位符，用于接收任意长度的向量\n",
    "            a = tf.placeholder(tf.float32, shape= [None], name= 'input_placeholder_a')\n",
    "            \n",
    "        # 独立的中间层\n",
    "        with tf.name_scope('intermediate_layer'):\n",
    "            # 对整个向量实施乘法和加法\n",
    "            b = tf.reduce_prod(a, name= 'prod_b')\n",
    "            c = tf.reduce_sum(a, name= 'sum_c')\n",
    "            \n",
    "        # 独立的输出层\n",
    "        with tf.name_scope('output'):\n",
    "            output = tf.add(b, c, name= 'output')\n",
    "        \n",
    "        # 对变量进行更新\n",
    "        with tf.name_scope('update'):\n",
    "            # 用最新的输出更新Variable对象total_output\n",
    "            update_total = total_output.assign(output)\n",
    "            # 将Variable对象global_step增 1 ，只要数据流图运行，该操作便需要进行\n",
    "            increment_step = global_step.assign_add(1)\n",
    "            \n",
    "        with tf.name_scope('summaries'):\n",
    "            avg = tf.div(update_total, tf.cast(increment_step, tf.float32), name= 'average')\n",
    "            \n",
    "            # 为输出节点创建汇总数据\n",
    "            tf.summary.scalar('Output', output)\n",
    "            tf.summary.scalar('Sum of outputs over time', update_total)\n",
    "            tf.summary.scalar('Average of outputs over time', avg)\n",
    "            \n",
    "        with tf.name_scope('global_ops'):\n",
    "            # 初始化Op\n",
    "            init = tf.global_variables_initializer()\n",
    "            # 将所有汇总数据合并到一个Op中\n",
    "            merged_summaries = tf.summary.merge_all()"
   ]
  },
  {
   "cell_type": "markdown",
   "metadata": {},
   "source": [
    "*为什么将 `tf.summary.merge_all()` $Op$ 放在“$global\\_ops$”名称作用域，而非放在“$summaries$”作用域?*\n",
    "- 一般而言，将`tf.summary.merge_all()` 与其他全局$Op$放在一起是最佳做法。我们的数据流图只为汇总数据设置了一个环节，但这并不妨碍去想象一个拥有`Variable`、`Op`和名称作用域等的不同汇总数据的数据流图。通过保持 `tf.summary.merge_all()` 的分离，可确保用户无需记忆放置它的特定“summary” 代码块，从而比较容易找到该$Op$。"
   ]
  },
  {
   "cell_type": "markdown",
   "metadata": {},
   "source": [
    "# 运行数据流图"
   ]
  },
  {
   "cell_type": "code",
   "execution_count": 7,
   "metadata": {},
   "outputs": [],
   "source": [
    "sess = tf.Session(graph= g)\n",
    "# 保存汇总数据\n",
    "writer = tf.summary.FileWriter('E:/Graphs/xin_graph', g)\n",
    "sess.run(init)\n",
    "def run_graph(input_tensor):\n",
    "    '''\n",
    "    运行计算图\n",
    "    '''\n",
    "    feed_dict = {a: input_tensor}\n",
    "    _, step, summary = sess.run([output, increment_step, merged_summaries],feed_dict= feed_dict)\n",
    "\n",
    "    writer.add_summary(summary, global_step= step)"
   ]
  },
  {
   "cell_type": "code",
   "execution_count": 8,
   "metadata": {},
   "outputs": [],
   "source": [
    "# 用不同的输入运行该数据流图\n",
    "run_graph([2, 8])\n",
    "run_graph([3, 1, 3, 3])\n",
    "run_graph([8])\n",
    "run_graph([1, 2, 3])\n",
    "run_graph([11, 4])\n",
    "run_graph([4, 1])\n",
    "run_graph([7, 3, 1])\n",
    "run_graph([6, 3])\n",
    "run_graph([0, 2])\n",
    "run_graph([4, 5 ,6])\n",
    "\n",
    "# 将汇总数据写入磁盘\n",
    "writer.flush()\n",
    "writer.close()\n",
    "sess.close()"
   ]
  }
 ],
 "metadata": {
  "kernelspec": {
   "display_name": "Python 3",
   "language": "python",
   "name": "python3"
  },
  "language_info": {
   "codemirror_mode": {
    "name": "ipython",
    "version": 3
   },
   "file_extension": ".py",
   "mimetype": "text/x-python",
   "name": "python",
   "nbconvert_exporter": "python",
   "pygments_lexer": "ipython3",
   "version": "3.6.3"
  }
 },
 "nbformat": 4,
 "nbformat_minor": 2
}
