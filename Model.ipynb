{
 "cells": [
  {
   "cell_type": "code",
   "execution_count": 5,
   "metadata": {},
   "outputs": [],
   "source": [
    "import tensorflow as tf"
   ]
  },
  {
   "cell_type": "code",
   "execution_count": 6,
   "metadata": {},
   "outputs": [],
   "source": [
    "class xinetTensor(object):\n",
    "    '''\n",
    "    使用TensorFlow使用计算图（有向无环图），支持并行运算：\n",
    "        准备样本数据集、变量、占位符和机器学习模型，然后进行模型训练，更新变量状态来提高预测结果。\n",
    "        创建损失函数，通过调整计算图中的变量来最小化损失函数。\n",
    "        维护模型的计算状态，每步迭代自动计算梯度。\n",
    "    '''\n",
    "    \n",
    "    def __init__(self, *data):\n",
    "        '''\n",
    "        导入/生成样本数据集\n",
    "        '''\n",
    "        self.data = data\n",
    "        \n",
    "    def transform_normalizer(self):\n",
    "        '''\n",
    "        转换和归一化数据：\n",
    "            一般地，输入样本数据集并不符合 TensorFlow 期望的`shape`，所以需要转换数据格式以满足TensorFlow。\n",
    "            当数据集的维度和类型不符合所使用的机器学习算法的要求时，需要在使用前进行数据转换。\n",
    "            大部分机器学习算法期待的输入样本是归一化的数据。\n",
    "            \n",
    "            例子：`data = tf.nn.batch_norm_with_global_normalization(...)`\n",
    "        '''\n",
    "        pass\n",
    "    \n",
    "    def divide_data(self):\n",
    "        '''\n",
    "        划分数据集为训练集、验证集和测试集。\n",
    "        一般要求机器学习算法的训练集和测试集是不同的数据集。\n",
    "        验证集是用来进行超参数调优的。\n",
    "        '''\n",
    "        pass\n",
    "    \n",
    "    def set_parameter(self):\n",
    "        '''\n",
    "        设置机器学习的参数和超参数。\n",
    "        超参数：如迭代次数、学习率或其他固定参数。约定俗成的习惯是一次性初始化所有的机器学习参数，如：\n",
    "            learning_rate = 0.01\n",
    "            batch_size = 100\n",
    "            iterations = 1000\n",
    "            ...\n",
    "        '''\n",
    "        pass\n",
    "    \n",
    "    def init_variablesOp(self):\n",
    "        '''\n",
    "        初始化变量和占位符:\n",
    "                指定数据大小和数据类型初始化变量和占位符。\n",
    "            一般使用`tf.float32`,使用的数据类型的字节数越多结果越精确，同时运行速度越慢。\n",
    "        '''\n",
    "        pass\n",
    "    \n",
    "    def model(self):\n",
    "        '''\n",
    "        在获取样本数据集、初始化变量和占位符后，需要定义机器学习模型。\n",
    "        TensorFlow通过选择`Op`、变量和占位符来构建计算图。\n",
    "        如 `y_pred = tf.add(tf.matmul(x_input, weight), b)`\n",
    "        '''\n",
    "        pass\n",
    "    \n",
    "    def loss(self):\n",
    "        '''\n",
    "        定义完模型后，需要声明损失函数来评估输出结果。\n",
    "        '''\n",
    "        pass\n",
    "    \n",
    "    def train_model(self):\n",
    "        '''\n",
    "        初始化模型并训练模型:\n",
    "            创建计算图实例，通过占位符赋值，维护变量的状态信息。\n",
    "            \n",
    "        示例：\n",
    "        ```\n",
    "        with tf.Session(graph = g) as sess:\n",
    "            ...\n",
    "            sess.run(...)\n",
    "            ...  \n",
    "        ```\n",
    "        '''\n",
    "        pass\n",
    "    \n",
    "    def evaluate_model(self):\n",
    "        '''\n",
    "        一旦构建计算图，并训练机器学习模型后，需要寻找某种标准来评估模型对新样本数据集的效果：\n",
    "            通过训练集和测试集的评估来确定模型是过拟合还是欠拟合。\n",
    "        '''\n",
    "        pass\n",
    "    \n",
    "    def prior_hyperParameter(self):\n",
    "        '''\n",
    "        大部分情况下，机器学习者需要基于模型效果来回调整一些超参数：\n",
    "                通过调整不同的超参数来重复训练模型，并用验证集来评估机器学习模型。\n",
    "        '''\n",
    "        pass\n",
    "        \n",
    "    def publish_or_prediction(self):\n",
    "        '''\n",
    "        发布和预测结果：\n",
    "            所有机器学习模型一旦训练好，最后都用来预测新的、未知的数据。\n",
    "        '''\n",
    "        pass"
   ]
  },
  {
   "cell_type": "code",
   "execution_count": 7,
   "metadata": {},
   "outputs": [],
   "source": [
    "model = xinetTensor()"
   ]
  },
  {
   "cell_type": "markdown",
   "metadata": {},
   "source": [
    "# 前言\n",
    "\n",
    "我们正实实在在地处于“信息时代”。以拍字节（PB）为单位计的海量数据冲刷着我们生活的方方面面。与此同时，计算机的性能也在持续提升。虽然CPU的发展已经放缓，但GPU用于并行计算，拉开了机器学习（简称ML）迅猛发展的序幕。\n",
    "\n",
    "机器学习试图利用通用的数学模型回答涉及数据的特定问题。它成功应用于垃圾邮件检测、产品推荐（向客户）、预测商品价格等领域已有多年。近年来，深度学习(一种特殊类型的机器学习范式)在几乎所有领域都取得了无数巨大的成功。\n",
    "\n",
    "“深度学习” 已经成为用于描述使用多层神经网络的过程的标准术语，多层神经网络是一类极为灵活的可利用种类繁多的数学方法以及不同数学方法组合的模型。深度学习的强大之处在于当决定如何最有效的利用数据时，它能够赋予模型更大的灵活性。人们无需盲目猜测应当选择何种输入。一个调校好的深度学习模型可以接收所有的参数，并自动确定输入值的有用高阶组合。\n",
    "\n",
    "由于深度学习的出现，机器翻译、人脸识别、预测分析、机器作曲、机器作画等人工智能任务都成为可能，或相比以往有了显著的改进。\n",
    "TensorFlow是创建和训练这些模型的编程库。\n",
    "\n",
    "TensorFlow于2015年11月由谷歌向公众开源，在GitHub上好评如潮，如今已经成功应用于自然语言处理、人工智能、计算机视觉和预测分析等领域。\n",
    "\n",
    "## TensorFlow 是什么？\n",
    "\n",
    "在 TensorFlow 的官网上是这样描述的：\n",
    "\n",
    "*`TensorFlow is an open source software library fornumerical computation using data flow graphs.`*\n",
    "\n",
    "TensorFlow是一个数值计算库(Library for Numerical Computation)，不仅仅适用于机器学习。TensorFlow主要目标并非是提供现成的机器学习解决方案，而是提供了一个可使用户用数学方法从零开始定义模型的函数和类的广泛套件。这使得具有一定技术背景的用户可迅速而直观地创建自定义的、具有较高灵活性的模型。\n",
    "\n",
    "1. 数据流图（Data Flow Graphs）\n",
    "\n",
    "    TensorFlow的计算模型是有向图无环图，其中每个节点（通常以圆圈、方框表示）代表了一些函数或计算，而边（通常以箭头或线段表示）代表了数值、矩阵或张量。\n",
    "\n",
    "2. 张量（Tensor）\n",
    "    简言之，张量是一个n维数组。而且我们还可以按矩阵的方式（分块矩阵的思想）来看待张量。"
   ]
  },
  {
   "cell_type": "markdown",
   "metadata": {},
   "source": [
    "## 数据流图基础简介"
   ]
  },
  {
   "cell_type": "markdown",
   "metadata": {},
   "source": [
    "TensorFlow的主要数据结构是张量，它用张量来操作计算图。且可以将变量或占位符声明为张量。\n",
    "创建一个张量，并不会立即在计算图中增加什么。只有把张量赋值给一个变量或占位符，TensorFlow才会把张量增加到计算图中。"
   ]
  },
  {
   "cell_type": "markdown",
   "metadata": {},
   "source": [
    "在TensorFlow中数据流图本质上是一组链接在一起的函数，每个函数都会将其输出传递给0个、1个或更多位于这个级联链上的其他函数。按照这种方式，用户可利用一些很小的、为人们所充分理解的数学函数构造数据的复杂变换。\n",
    "\n",
    "数据流图的两个基本构件：节点（node）和边（edge）：\n",
    "   - 节点：在数据流图中，节点通常以圆圈、椭圆和方框表示，代表了对数据所做的运算或某种操作。被称为Operation（简记为 Op）\n",
    "   - 边：对应于向Operation传出的实际数值，通常以箭头表示。也可视其为不同Operation之间的连接。\n",
    "   \n",
    "各个Op接收0个或多个Tensor对象作为输入，并输出0个或多个Tensor对象。"
   ]
  },
  {
   "cell_type": "code",
   "execution_count": 8,
   "metadata": {},
   "outputs": [],
   "source": [
    "from tensorflow.python.framework import ops\n",
    "ops.reset_default_graph()\n",
    "a = tf.constant(5, name= 'input_a')\n",
    "b = tf.constant(3, name= 'input_b')\n",
    "c = tf.multiply(a, b, name= 'mul_c')\n",
    "d = tf.add(a, b, name='add_d')\n",
    "e = tf.add(c, d, name= 'add_e')\n",
    "\n",
    "with tf.Session() as sess:\n",
    "    writer = tf.summary.FileWriter('E:/Graphs/g2', sess.graph)"
   ]
  },
  {
   "cell_type": "markdown",
   "metadata": {
    "collapsed": true
   },
   "source": [
    "1. 张量\n",
    "   - 创建一个张量，并不会立即在计算图中增加什么，只有把张量赋值给一个变量或占位符，TensorFlow才会把张量增加到计算图。\n",
    "2. 占位符\n",
    "   - 仅仅声明数据位置，用于传入数据到计算图。通过`tf.Session()`对象的参数`feed_dict`获取数据。\n",
    "3. 变量\n",
    "   - 通过维护和调整变量（`tf.Variable()`）的状态来优化机器学习算法。"
   ]
  },
  {
   "cell_type": "code",
   "execution_count": null,
   "metadata": {},
   "outputs": [],
   "source": []
  }
 ],
 "metadata": {
  "kernelspec": {
   "display_name": "Python 3",
   "language": "python",
   "name": "python3"
  },
  "language_info": {
   "codemirror_mode": {
    "name": "ipython",
    "version": 3
   },
   "file_extension": ".py",
   "mimetype": "text/x-python",
   "name": "python",
   "nbconvert_exporter": "python",
   "pygments_lexer": "ipython3",
   "version": "3.6.3"
  }
 },
 "nbformat": 4,
 "nbformat_minor": 2
}
